{
  "nbformat": 4,
  "nbformat_minor": 0,
  "metadata": {
    "colab": {
      "private_outputs": true,
      "provenance": [],
      "collapsed_sections": [
        "vncDsAP0Gaoa",
        "FJNUwmbgGyua",
        "w6K7xa23Elo4",
        "yQaldy8SH6Dl",
        "PH-0ReGfmX4f",
        "mDgbUHAGgjLW",
        "O_i_v8NEhb9l",
        "HhfV-JJviCcP",
        "Y3lxredqlCYt",
        "3RnN4peoiCZX",
        "x71ZqKXriCWQ",
        "7hBIi_osiCS2",
        "JlHwYmJAmNHm",
        "35m5QtbWiB9F",
        "PoPl-ycgm1ru",
        "H0kj-8xxnORC",
        "nA9Y7ga8ng1Z",
        "PBTbrJXOngz2",
        "u3PMJOP6ngxN",
        "dauF4eBmngu3",
        "bKJF3rekwFvQ",
        "MSa1f5Uengrz",
        "GF8Ens_Soomf",
        "0wOQAZs5pc--",
        "K5QZ13OEpz2H",
        "lQ7QKXXCp7Bj",
        "448CDAPjqfQr",
        "KSlN3yHqYklG",
        "t6dVpIINYklI",
        "ijmpgYnKYklI",
        "-JiQyfWJYklI",
        "EM7whBJCYoAo",
        "fge-S5ZAYoAp",
        "85gYPyotYoAp",
        "RoGjAbkUYoAp",
        "4Of9eVA-YrdM",
        "iky9q4vBYrdO",
        "F6T5p64dYrdO",
        "y-Ehk30pYrdP",
        "bamQiAODYuh1",
        "QHF8YVU7Yuh3",
        "GwzvFGzlYuh3",
        "qYpmQ266Yuh3",
        "OH-pJp9IphqM",
        "bbFf2-_FphqN",
        "_ouA3fa0phqN",
        "Seke61FWphqN",
        "PIIx-8_IphqN",
        "t27r6nlMphqO",
        "r2jJGEOYphqO",
        "b0JNsNcRphqO",
        "BZR9WyysphqO",
        "jj7wYXLtphqO",
        "eZrbJ2SmphqO",
        "rFu4xreNphqO",
        "YJ55k-q6phqO",
        "gCFgpxoyphqP",
        "OVtJsKN_phqQ",
        "lssrdh5qphqQ",
        "U2RJ9gkRphqQ",
        "1M8mcRywphqQ",
        "tgIPom80phqQ",
        "JMzcOPDDphqR",
        "x-EpHcCOp1ci",
        "X_VqEhTip1ck",
        "8zGJKyg5p1ck",
        "PVzmfK_Ep1ck",
        "n3dbpmDWp1ck",
        "ylSl6qgtp1ck",
        "ZWILFDl5p1ck",
        "M7G43BXep1ck",
        "Ag9LCva-p1cl",
        "E6MkPsBcp1cl",
        "2cELzS2fp1cl",
        "3MPXvC8up1cl",
        "NC_X3p0fY2L0",
        "UV0SzAkaZNRQ",
        "YPEH6qLeZNRQ",
        "q29F0dvdveiT",
        "EXh0U9oCveiU",
        "22aHeOlLveiV",
        "JcMwzZxoAimU",
        "8G2x9gOozGDZ",
        "gCX9965dhzqZ",
        "gIfDvo9L0UH2"
      ]
    },
    "kernelspec": {
      "name": "python3",
      "display_name": "Python 3"
    },
    "language_info": {
      "name": "python"
    }
  },
  "cells": [
    {
      "cell_type": "markdown",
      "source": [
        "# **Project Name**    -\n",
        "\n"
      ],
      "metadata": {
        "id": "vncDsAP0Gaoa"
      }
    },
    {
      "cell_type": "markdown",
      "source": [
        "##### **Project Type**    - EDA/Regression/Classification/Unsupervised\n",
        "##### **Contribution**    - Individual/Team\n",
        "##### **Team Member 1 -**\n",
        "##### **Team Member 2 -**\n",
        "##### **Team Member 3 -**\n",
        "##### **Team Member 4 -**"
      ],
      "metadata": {
        "id": "beRrZCGUAJYm"
      }
    },
    {
      "cell_type": "markdown",
      "source": [
        "# **Project Summary -**"
      ],
      "metadata": {
        "id": "FJNUwmbgGyua"
      }
    },
    {
      "cell_type": "markdown",
      "source": [
        "Write the summary here within 500-600 words."
      ],
      "metadata": {
        "id": "F6v_1wHtG2nS"
      }
    },
    {
      "cell_type": "markdown",
      "source": [
        "# **GitHub Link -**"
      ],
      "metadata": {
        "id": "w6K7xa23Elo4"
      }
    },
    {
      "cell_type": "markdown",
      "source": [
        "Provide your GitHub Link here."
      ],
      "metadata": {
        "id": "h1o69JH3Eqqn"
      }
    },
    {
      "cell_type": "markdown",
      "source": [
        "# **Problem Statement**\n"
      ],
      "metadata": {
        "id": "yQaldy8SH6Dl"
      }
    },
    {
      "cell_type": "markdown",
      "source": [
        "**Write Problem Statement Here.**"
      ],
      "metadata": {
        "id": "DpeJGUA3kjGy"
      }
    },
    {
      "cell_type": "markdown",
      "source": [
        "#### **Define Your Business Objective?**"
      ],
      "metadata": {
        "id": "PH-0ReGfmX4f"
      }
    },
    {
      "cell_type": "markdown",
      "source": [
        "Answer Here."
      ],
      "metadata": {
        "id": "PhDvGCAqmjP1"
      }
    },
    {
      "cell_type": "markdown",
      "source": [
        "# **General Guidelines** : -  "
      ],
      "metadata": {
        "id": "mDgbUHAGgjLW"
      }
    },
    {
      "cell_type": "markdown",
      "source": [
        "1.   Well-structured, formatted, and commented code is required.\n",
        "2.   Exception Handling, Production Grade Code & Deployment Ready Code will be a plus. Those students will be awarded some additional credits.\n",
        "     \n",
        "     The additional credits will have advantages over other students during Star Student selection.\n",
        "       \n",
        "             [ Note: - Deployment Ready Code is defined as, the whole .ipynb notebook should be executable in one go\n",
        "                       without a single error logged. ]\n",
        "\n",
        "3.   Each and every logic should have proper comments.\n",
        "4. You may add as many number of charts you want. Make Sure for each and every chart the following format should be answered.\n",
        "        \n",
        "\n",
        "```\n",
        "# Chart visualization code\n",
        "```\n",
        "            \n",
        "\n",
        "*   Why did you pick the specific chart?\n",
        "*   What is/are the insight(s) found from the chart?\n",
        "* Will the gained insights help creating a positive business impact?\n",
        "Are there any insights that lead to negative growth? Justify with specific reason.\n",
        "\n",
        "5. You have to create at least 20 logical & meaningful charts having important insights.\n",
        "\n",
        "\n",
        "[ Hints : - Do the Vizualization in  a structured way while following \"UBM\" Rule.\n",
        "\n",
        "U - Univariate Analysis,\n",
        "\n",
        "B - Bivariate Analysis (Numerical - Categorical, Numerical - Numerical, Categorical - Categorical)\n",
        "\n",
        "M - Multivariate Analysis\n",
        " ]\n",
        "\n",
        "\n",
        "\n"
      ],
      "metadata": {
        "id": "ZrxVaUj-hHfC"
      }
    },
    {
      "cell_type": "markdown",
      "source": [
        "# ***Let's Begin !***"
      ],
      "metadata": {
        "id": "O_i_v8NEhb9l"
      }
    },
    {
      "cell_type": "markdown",
      "source": [
        "## ***1. Know Your Data***"
      ],
      "metadata": {
        "id": "HhfV-JJviCcP"
      }
    },
    {
      "cell_type": "markdown",
      "source": [
        "### Import Libraries"
      ],
      "metadata": {
        "id": "Y3lxredqlCYt"
      }
    },
    {
      "cell_type": "code",
      "source": [
        "# Import Libraries\n",
        "import pandas as pd\n",
        "import numpy as np\n",
        "import seaborn as sns\n",
        "import matplotlib as matlib\n",
        "import matplotlib.pyplot as plt\n",
        "import missingno as msno"
      ],
      "metadata": {
        "id": "M8Vqi-pPk-HR"
      },
      "execution_count": null,
      "outputs": []
    },
    {
      "cell_type": "markdown",
      "source": [
        "### Dataset Loading"
      ],
      "metadata": {
        "id": "3RnN4peoiCZX"
      }
    },
    {
      "cell_type": "code",
      "source": [
        "# Load Dataset\n",
        "df= pd.read_csv('/content/Airbnb NYC 2019.csv')"
      ],
      "metadata": {
        "id": "4CkvbW_SlZ_R"
      },
      "execution_count": null,
      "outputs": []
    },
    {
      "cell_type": "markdown",
      "source": [
        "### Dataset First View"
      ],
      "metadata": {
        "id": "x71ZqKXriCWQ"
      }
    },
    {
      "cell_type": "code",
      "source": [
        "# Dataset First Look\n",
        "df.head()"
      ],
      "metadata": {
        "id": "LWNFOSvLl09H"
      },
      "execution_count": null,
      "outputs": []
    },
    {
      "cell_type": "markdown",
      "source": [
        "### Dataset Rows & Columns count"
      ],
      "metadata": {
        "id": "7hBIi_osiCS2"
      }
    },
    {
      "cell_type": "code",
      "source": [
        "# Dataset Rows & Columns count\n",
        "df.info()"
      ],
      "metadata": {
        "id": "Kllu7SJgmLij"
      },
      "execution_count": null,
      "outputs": []
    },
    {
      "cell_type": "markdown",
      "source": [
        "### Dataset Information"
      ],
      "metadata": {
        "id": "JlHwYmJAmNHm"
      }
    },
    {
      "cell_type": "code",
      "source": [
        "# Dataset Info\n",
        "\n"
      ],
      "metadata": {
        "id": "e9hRXRi6meOf"
      },
      "execution_count": null,
      "outputs": []
    },
    {
      "cell_type": "code",
      "source": [
        "#summary statistics of numerical columns\n",
        "print(df.describe(include=['object']))\n"
      ],
      "metadata": {
        "id": "HiK5zgHg3wrZ"
      },
      "execution_count": null,
      "outputs": []
    },
    {
      "cell_type": "markdown",
      "source": [
        "#### Duplicate Values"
      ],
      "metadata": {
        "id": "35m5QtbWiB9F"
      }
    },
    {
      "cell_type": "code",
      "source": [
        "# Dataset Duplicate Value Count\n",
        "print(df.duplicated().sum())\n"
      ],
      "metadata": {
        "id": "1sLdpKYkmox0"
      },
      "execution_count": null,
      "outputs": []
    },
    {
      "cell_type": "markdown",
      "source": [
        "#### Missing Values/Null Values"
      ],
      "metadata": {
        "id": "PoPl-ycgm1ru"
      }
    },
    {
      "cell_type": "code",
      "source": [
        "# Missing Values/Null Values Count\n",
        "# Calculate the number of missing values\n",
        "missing_values = df.isnull().sum()\n",
        "\n",
        "# Calculate the percentage of missing values\n",
        "missing_percentage = (df.isnull().sum() / len(df)) * 100\n",
        "\n",
        "# Create a DataFrame to display the missing values and their percentage\n",
        "missing_data = pd.DataFrame({\n",
        "    'Missing Values': missing_values,\n",
        "    'Percentage': missing_percentage\n",
        "})\n",
        "\n",
        "# Display the DataFrame\n",
        "print(missing_data)\n"
      ],
      "metadata": {
        "id": "GgHWkxvamxVg"
      },
      "execution_count": null,
      "outputs": []
    },
    {
      "cell_type": "code",
      "source": [
        "#summary statistics of numerical columns\n",
        "print(df.describe(include=['object']))"
      ],
      "metadata": {
        "id": "ljNm3Wbf6OAR"
      },
      "execution_count": null,
      "outputs": []
    },
    {
      "cell_type": "code",
      "source": [
        "\n",
        "\n",
        "# Visualize the missing values using missingno's matrix plot\n",
        "msno.matrix(df)\n",
        "plt.title('Missing Values Matrix')\n",
        "plt.show()\n",
        "\n"
      ],
      "metadata": {
        "id": "3q5wnI3om9sJ"
      },
      "execution_count": null,
      "outputs": []
    },
    {
      "cell_type": "markdown",
      "source": [
        "### What did you know about your dataset?"
      ],
      "metadata": {
        "id": "H0kj-8xxnORC"
      }
    },
    {
      "cell_type": "markdown",
      "source": [
        "1. There are 16 columns, which provide a comprehensive view of each listing.\n",
        "2. Most columns do not have missing values, indicating a generally complete dataset.\n",
        "3. The `last_review` and `reviews_per_month` columns contain missing values, which might be expected for listings with no reviews.\n",
        "4. Columns like `id`, `host_id`, and `host_name` are unique identifiers for listings and hosts, which are crucial for differentiating records.\n",
        "5. The `neighbourhood_group` and `neighbourhood` columns provide detailed location information, which can be useful for geographical analysis.\n",
        "6. Latitude and longitude columns allow for spatial analysis and visualization on maps.\n",
        "7. The `room_type`, `price`, `minimum_nights`, `number_of_reviews`, `calculated_host_listing_count`, and `availability_365` columns provide critical information about the listing's type, cost, and availability.\n",
        "8. `number_of_reviews`, `last_review`, and `reviews_per_month` columns give insights into the popularity and review frequency of the listings.\n",
        "9. Missing values in `last_review` and `reviews_per_month` suggest some listings might be newer or less popular, leading to fewer or no reviews.\n"
      ],
      "metadata": {
        "id": "gfoNAAC-nUe_"
      }
    },
    {
      "cell_type": "markdown",
      "source": [
        "## ***2. Understanding Your Variables***"
      ],
      "metadata": {
        "id": "nA9Y7ga8ng1Z"
      }
    },
    {
      "cell_type": "code",
      "source": [
        "# Dataset Columns"
      ],
      "metadata": {
        "id": "j7xfkqrt5Ag5"
      },
      "execution_count": null,
      "outputs": []
    },
    {
      "cell_type": "code",
      "source": [
        "# Dataset Describe\n",
        "print(df.describe())"
      ],
      "metadata": {
        "id": "DnOaZdaE5Q5t"
      },
      "execution_count": null,
      "outputs": []
    },
    {
      "cell_type": "markdown",
      "source": [
        "### Variables Description"
      ],
      "metadata": {
        "id": "PBTbrJXOngz2"
      }
    },
    {
      "cell_type": "markdown",
      "source": [
        "| Field                       | Description                     |\n",
        "|-----------------------------|---------------------------------|\n",
        "| id                          | Unique ID                       |\n",
        "| name                        | Name of the listing             |\n",
        "| host_id                     | Unique host id                  |\n",
        "| host_name                   | Name of the host                |\n",
        "| neighbourhood_group         | Location                        |\n",
        "| neighborhood                | Area                            |\n",
        "| latitude                    | Latitude range                  |\n",
        "| longitude                   | Longitude range                 |\n",
        "| room_type                   | Type of listing                 |\n",
        "| price                       | Price of listing                |\n",
        "| minimum_nights              | Minimum nights to be paid for   |\n",
        "| Number_of_reviews           | Number of reviews               |\n",
        "| last_review                 | Content of the last review      |\n",
        "| reviews_per_month           | Number of checks per month      |\n",
        "| calculated_host_listing_count | Total count                    |\n",
        "| availability_365            | Availability around the year    |\n"
      ],
      "metadata": {
        "id": "aJV4KIxSnxay"
      }
    },
    {
      "cell_type": "markdown",
      "source": [
        "### Check Unique Values for each variable."
      ],
      "metadata": {
        "id": "u3PMJOP6ngxN"
      }
    },
    {
      "cell_type": "code",
      "source": [
        "# Check Unique Values for each variable.\n",
        "unique_values = df.nunique()\n",
        "\n",
        "# Convert the result into a DataFrame for better readability\n",
        "unique_values_df = unique_values.reset_index()\n",
        "unique_values_df.columns = ['Column', 'Number of Unique Values']\n",
        "\n",
        "# Display the result\n",
        "print(unique_values_df)"
      ],
      "metadata": {
        "id": "zms12Yq5n-jE"
      },
      "execution_count": null,
      "outputs": []
    },
    {
      "cell_type": "markdown",
      "source": [
        "## 3. ***Data Wrangling***"
      ],
      "metadata": {
        "id": "dauF4eBmngu3"
      }
    },
    {
      "cell_type": "markdown",
      "source": [
        "### Data Wrangling Code"
      ],
      "metadata": {
        "id": "bKJF3rekwFvQ"
      }
    },
    {
      "cell_type": "code",
      "source": [
        "# Convert 'last_review' to datetime\n",
        "df['last_review'] = pd.to_datetime(df['last_review'])\n"
      ],
      "metadata": {
        "id": "3A_R7ura2_Fy"
      },
      "execution_count": null,
      "outputs": []
    },
    {
      "cell_type": "code",
      "source": [
        "#Extract year and month from the 'last_review' column\n",
        "df['last_review_year'] = df['last_review'].dt.year\n",
        "df['last_review_month'] = df['last_review'].dt.month\n"
      ],
      "metadata": {
        "id": "eZBvmfM23tl-"
      },
      "execution_count": null,
      "outputs": []
    },
    {
      "cell_type": "code",
      "source": [
        "# Write your code to make your dataset analysis ready."
      ],
      "metadata": {
        "id": "wk-9a2fpoLcV"
      },
      "execution_count": null,
      "outputs": []
    },
    {
      "cell_type": "code",
      "source": [
        "# Replace missing values in the 'name' column with \"Unknown\"\n",
        "df['name'].fillna('Unknown', inplace=True)"
      ],
      "metadata": {
        "id": "8Z3Oz8Eti_fo"
      },
      "execution_count": null,
      "outputs": []
    },
    {
      "cell_type": "code",
      "source": [
        "# Replace missing values in the 'host_name' column with \"Unknown Host\"\n",
        "df['host_name'].fillna('Unknown Host', inplace=True)"
      ],
      "metadata": {
        "id": "gbGyawkkj-Wf"
      },
      "execution_count": null,
      "outputs": []
    },
    {
      "cell_type": "code",
      "source": [
        "# Replace missing values in the 'last_review' column with 'No Review'\n",
        "df['last_review'] = df['last_review'].fillna('No Review')"
      ],
      "metadata": {
        "id": "oe_BlocDoXRU"
      },
      "execution_count": null,
      "outputs": []
    },
    {
      "cell_type": "code",
      "source": [
        "# Replace missing values in the 'reviews_per_month' column with 0\n",
        "df['reviews_per_month'] = df['reviews_per_month'].fillna(0)"
      ],
      "metadata": {
        "id": "UHK1hKXqqTnN"
      },
      "execution_count": null,
      "outputs": []
    },
    {
      "cell_type": "markdown",
      "source": [
        "### What all manipulations have you done and insights you found?"
      ],
      "metadata": {
        "id": "MSa1f5Uengrz"
      }
    },
    {
      "cell_type": "markdown",
      "source": [
        "1. name (0.03% missing): The percentage of missing values is very low, and the name can be important for certain analyses or descriptive purposes.So we would keep it but would just replace it with a placeholder like \"Unknown\"\n",
        "2. host_name (0.04% missing):Similar to the name column, the percentage of missing values is low.So we would keep it but would just replace it with a placeholder like \"Unknown Host\"\n",
        "3. last_review (20.58% missing):Even though a significant percentage of values are missing, this column provides valuable information about the recency of reviews.So we would keep it but would just replace it with a placeholder like \"No Review\".\n",
        "4. reviews_per_month (20.58% missing):This column provides valuable information about the review frequency.So we would keep it but would just replace missing values with 0, assuming no reviews if the value is missing."
      ],
      "metadata": {
        "id": "LbyXE7I1olp8"
      }
    },
    {
      "cell_type": "markdown",
      "source": [
        "## ***4. Data Vizualization, Storytelling & Experimenting with charts : Understand the relationships between variables***"
      ],
      "metadata": {
        "id": "GF8Ens_Soomf"
      }
    },
    {
      "cell_type": "markdown",
      "source": [
        "**<h1>UNIVARIATE ANALYSIS**"
      ],
      "metadata": {
        "id": "EZL1m9QfuzVy"
      }
    },
    {
      "cell_type": "markdown",
      "source": [
        "#### Chart - 1"
      ],
      "metadata": {
        "id": "0wOQAZs5pc--"
      }
    },
    {
      "cell_type": "code",
      "source": [
        "# Distribution of listing prices\n",
        "# Plotting the distribution of listing prices using a histogram with a KDE (Kernel Density Estimate) overlay\n",
        "plt.figure(figsize=(10, 6))\n",
        "sns.histplot(df['price'], kde=True, bins=30)\n",
        "plt.title('Distribution of Listing Prices')\n",
        "plt.xlabel('Price')\n",
        "plt.ylabel('Frequency')\n",
        "plt.show()"
      ],
      "metadata": {
        "id": "7v_ESjsspbW7"
      },
      "execution_count": null,
      "outputs": []
    },
    {
      "cell_type": "markdown",
      "source": [
        "##### 1. Why did you pick the specific chart?"
      ],
      "metadata": {
        "id": "K5QZ13OEpz2H"
      }
    },
    {
      "cell_type": "markdown",
      "source": [
        "The KDE provides a smooth estimate of the probability density function of the variable. It helps in understanding the underlying distribution without the discreteness of histogram bins."
      ],
      "metadata": {
        "id": "XESiWehPqBRc"
      }
    },
    {
      "cell_type": "markdown",
      "source": [
        "##### 2. What is/are the insight(s) found from the chart?"
      ],
      "metadata": {
        "id": "lQ7QKXXCp7Bj"
      }
    },
    {
      "cell_type": "markdown",
      "source": [
        "1. The distribution of listing prices is highly right-skewed. This indicates that most of the listings are priced on the lower end of the spectrum, with a few listings priced significantly higher.\n",
        "\n",
        "2. There is a very high concentration of listings at the lower price range. The frequency drops sharply as the price increases, suggesting that lower-priced listings are far more common.\n"
      ],
      "metadata": {
        "id": "C_j1G7yiqdRP"
      }
    },
    {
      "cell_type": "markdown",
      "source": [
        "##### 3. Will the gained insights help creating a positive business impact?\n",
        "Are there any insights that lead to negative growth? Justify with specific reason."
      ],
      "metadata": {
        "id": "448CDAPjqfQr"
      }
    },
    {
      "cell_type": "markdown",
      "source": [
        "1. Pricing Strategy:\n",
        "\n",
        "Focus on optimizing the pricing for the majority of listings that are in the lower price range. This can involve competitive pricing to attract more customers while ensuring profitability.\n",
        "For high-priced listings, ensure they offer sufficient value and unique features to justify their price. This can involve offering premium services or exclusive amenities.\n",
        "\n",
        "2. Market Segmentation:\n",
        "\n",
        "Identify different customer segments. For example, budget travelers versus luxury seekers. Tailor marketing strategies accordingly to target each segment effectively."
      ],
      "metadata": {
        "id": "3cspy4FjqxJW"
      }
    },
    {
      "cell_type": "markdown",
      "source": [
        "#### Chart - 2"
      ],
      "metadata": {
        "id": "KSlN3yHqYklG"
      }
    },
    {
      "cell_type": "code",
      "source": [
        "# How many listings are there for each room type?\n",
        "# Count the number of listings for each room type\n",
        "room_type_counts = df['room_type'].value_counts()\n",
        "\n",
        "# Display the counts\n",
        "print(room_type_counts)\n",
        "\n",
        "# Define a custom palette\n",
        "custom_palette = ['blue', 'orange', 'green']\n",
        "\n",
        "# Plot the counts of each room type with custom colors\n",
        "plt.figure(figsize=(10, 6))\n",
        "sns.countplot(data=df, x='room_type', palette=custom_palette)\n",
        "plt.title('Number of Listings for Each Room Type')\n",
        "plt.xlabel('Room Type')\n",
        "plt.ylabel('Number of Listings')\n",
        "plt.xticks(rotation=45)\n",
        "plt.show()"
      ],
      "metadata": {
        "id": "R4YgtaqtYklH"
      },
      "execution_count": null,
      "outputs": []
    },
    {
      "cell_type": "markdown",
      "source": [
        "##### 1. Why did you pick the specific chart?"
      ],
      "metadata": {
        "id": "t6dVpIINYklI"
      }
    },
    {
      "cell_type": "markdown",
      "source": [
        "Bar plots are straightforward and easy to understand, making them ideal for displaying the frequency of categorical data like room types."
      ],
      "metadata": {
        "id": "5aaW0BYyYklI"
      }
    },
    {
      "cell_type": "markdown",
      "source": [
        "##### 2. What is/are the insight(s) found from the chart?"
      ],
      "metadata": {
        "id": "ijmpgYnKYklI"
      }
    },
    {
      "cell_type": "markdown",
      "source": [
        "1. Distribution of Room Types:\n",
        "Most Common Room Types:\n",
        "The chart shows that the most common room type is the one represented by the highest bar. This indicates a high demand or availability for this type of accommodation.\n",
        "The second most common room type is represented by the second highest bar.\n",
        "2. Less Common Room Types:\n",
        "Least Common Room Type:\n",
        "The room type represented by the shortest bar is the least common. This could indicate lower demand or fewer available listings of this type.\n",
        "3. Relative Popularity:\n",
        "Comparative Popularity:\n",
        "The relative heights of the bars provide a clear comparison of how popular or available each room type is compared to others. For example, if the bars for the two most common room types are significantly taller than the others, this indicates that these room types dominate the market.\n",
        "4. Market Trends:\n",
        "Market Preferences:\n",
        "The chart can reveal market preferences, showing whether customers prefer certain types of accommodations over others. This can guide decisions about which types of properties to invest in or promote more heavily"
      ],
      "metadata": {
        "id": "PSx9atu2YklI"
      }
    },
    {
      "cell_type": "markdown",
      "source": [
        "##### 3. Will the gained insights help creating a positive business impact?\n",
        "Are there any insights that lead to negative growth? Justify with specific reason."
      ],
      "metadata": {
        "id": "-JiQyfWJYklI"
      }
    },
    {
      "cell_type": "markdown",
      "source": [
        "Positive Business Impact:\n",
        "\n",
        "Market Demand: Focus on popular room types increases bookings.\n",
        "Targeted Marketing: Tailored ads attract more customers.\n",
        "Pricing: Competitive and premium pricing maximizes revenue.\n",
        "Investment: Investing in underrepresented types taps niche markets.\n",
        "Customer Satisfaction: Matching preferences boosts satisfaction and loyalty.\n",
        "Efficiency: Resource allocation improves service quality.\n",
        "Partnerships: Encouraging diverse listings attracts a broader customer base.\n",
        "\n",
        "Negative Growth Risks:\n",
        "\n",
        "Oversupply: Too much focus on popular types can lower profits.\n",
        "Neglecting Niches: Missing out on niche markets reduces opportunities.\n",
        "Resource Misallocation: Inefficiencies increase costs.\n",
        "Customer Dissatisfaction: Poor changes can harm reputation and repeat business."
      ],
      "metadata": {
        "id": "BcBbebzrYklV"
      }
    },
    {
      "cell_type": "markdown",
      "source": [
        "#### Chart - 3)  What is the distribution of the minimum number of nights required to book a listing?"
      ],
      "metadata": {
        "id": "EM7whBJCYoAo"
      }
    },
    {
      "cell_type": "code",
      "source": [
        "\n",
        "# Create a detailed summary table for the distribution of minimum nights per room type\n",
        "detailed_summary_table = df.groupby(['room_type', 'minimum_nights']).size().reset_index(name='Count')\n",
        "detailed_summary_table['Percentage'] = (detailed_summary_table['Count'] / df.shape[0]) * 100\n",
        "\n",
        "# Sort and reset index\n",
        "detailed_summary_table.sort_values(by=['room_type', 'minimum_nights'], inplace=True)\n",
        "detailed_summary_table.reset_index(drop=True, inplace=True)\n",
        "\n",
        "# Display the detailed summary table\n",
        "print(detailed_summary_table)"
      ],
      "metadata": {
        "id": "hWb2JDV262S2"
      },
      "execution_count": null,
      "outputs": []
    },
    {
      "cell_type": "code",
      "source": [
        "# Group by neighbourhood_group and count the number of listings\n",
        "neighbourhood_group_counts = df['neighbourhood_group'].value_counts().reset_index()\n",
        "neighbourhood_group_counts.columns = ['Neighbourhood Group', 'Count']\n",
        "\n",
        "# Display the dataframe\n",
        "print(neighbourhood_group_counts)"
      ],
      "metadata": {
        "id": "t6GMdE67YoAp"
      },
      "execution_count": null,
      "outputs": []
    },
    {
      "cell_type": "code",
      "source": [
        "# Create a bar plot\n",
        "sns.barplot(data=neighbourhood_group_counts, x='Neighbourhood Group', y='Count', hue='Neighbourhood Group', palette='viridis', dodge=False, legend=False)\n",
        "\n",
        "# Set plot title and labels\n",
        "plt.title('Number of Listings in Each Neighbourhood Group')\n",
        "plt.xlabel('Neighbourhood Group')\n",
        "plt.ylabel('Number of Listings')\n",
        "\n",
        "# Rotate x-axis labels for better readability if necessary\n",
        "plt.xticks(rotation=45)\n",
        "\n",
        "# Show the plot\n",
        "plt.tight_layout()\n",
        "plt.show()"
      ],
      "metadata": {
        "id": "BNpetUZhAUma"
      },
      "execution_count": null,
      "outputs": []
    },
    {
      "cell_type": "markdown",
      "source": [
        "##### 1. Why did you pick the specific chart?"
      ],
      "metadata": {
        "id": "fge-S5ZAYoAp"
      }
    },
    {
      "cell_type": "markdown",
      "source": [
        "The length of the bars makes it simple to see which neighbourhood groups have the most and least listings, making the differences visually clear."
      ],
      "metadata": {
        "id": "5dBItgRVYoAp"
      }
    },
    {
      "cell_type": "markdown",
      "source": [
        "##### 2. What is/are the insight(s) found from the chart?"
      ],
      "metadata": {
        "id": "85gYPyotYoAp"
      }
    },
    {
      "cell_type": "markdown",
      "source": [
        "Manhattan Dominance: Manhattan has the highest number of listings among all neighbourhood groups. This suggests that Manhattan is a popular area for Airbnb listings, possibly due to its central location, attractions, and amenities.\n",
        "\n",
        "Brooklyn's Popularity: Brooklyn also has a significant number of listings, slightly less than Manhattan. This indicates that Brooklyn is another highly sought-after area for Airbnb stays, which could be due to its trendy neighborhoods, cultural attractions, and relatively lower prices compared to Manhattan.\n",
        "\n",
        "Queens as a Secondary Option: Queens has a moderate number of listings, considerably fewer than Manhattan and Brooklyn, but more than the Bronx and Staten Island. This may reflect its appeal as a more affordable option with diverse cultural offerings and proximity to Manhattan.\n",
        "\n",
        "Limited Listings in Bronx and Staten Island: The Bronx and Staten Island have the fewest listings, suggesting these areas are less popular for Airbnb rentals. This could be due to various factors such as fewer tourist attractions, lower demand, or perceived safety and accessibility issues.\n",
        "\n",
        "Distribution Insight: The chart shows a clear skew towards Manhattan and Brooklyn, with these two boroughs accounting for the majority of listings. This indicates that hosts and guests may prefer these areas over others in New York City."
      ],
      "metadata": {
        "id": "4jstXR6OYoAp"
      }
    },
    {
      "cell_type": "markdown",
      "source": [
        "##### 3. Will the gained insights help creating a positive business impact?\n",
        "Are there any insights that lead to negative growth? Justify with specific reason."
      ],
      "metadata": {
        "id": "RoGjAbkUYoAp"
      }
    },
    {
      "cell_type": "markdown",
      "source": [
        "**Positive Business Impact**\n",
        "\n",
        "Targeted Marketing:\n",
        "\n",
        "Focus on High-Demand Areas: Understanding that Manhattan and Brooklyn are the most popular areas can help hosts and property managers concentrate their marketing efforts and investments in these neighborhoods to attract more guests.\n",
        "Highlighting Attractions: Promoting key attractions and amenities in Manhattan and Brooklyn can further boost bookings.\n",
        "Pricing Strategy:\n",
        "\n",
        "Premium Pricing: Listings in high-demand areas like Manhattan can be priced at a premium due to their popularity and central location.\n",
        "Competitive Pricing: Areas like Queens can adopt competitive pricing strategies to attract budget-conscious travelers.\n",
        "Expansion Opportunities:\n",
        "\n",
        "Underserved Markets: The lower number of listings in the Bronx and Staten Island indicates potential opportunities for growth. Hosts can explore these markets to meet the unmet demand, offering unique local experiences.\n",
        "Diversification: Investors can diversify their property portfolio by considering investments in less saturated areas, potentially yielding higher returns over time.\n",
        "Improved Guest Experience:\n",
        "\n",
        "Resource Allocation: Focusing resources and improving amenities in high-demand areas can enhance the guest experience, leading to positive reviews and repeat business."
      ],
      "metadata": {
        "id": "zfJ8IqMcYoAp"
      }
    },
    {
      "cell_type": "markdown",
      "source": [
        "**Potential Negative Growth Insights**\n",
        "\n",
        "Market Saturation:\n",
        "\n",
        "Manhattan and Brooklyn: High concentration of listings may lead to increased competition, driving down prices and occupancy rates. Hosts need to differentiate their offerings or invest in upgrades to stay competitive.\n",
        "Neglect of Other Areas:\n",
        "\n",
        "Queens, Bronx, and Staten Island: Focusing too much on popular areas might result in missed opportunities in underserved markets. Investing in marketing and infrastructure in these areas can attract new customers.\n",
        "Dependency on Tourist Hotspots:\n",
        "\n",
        "Economic Fluctuations: Heavy reliance on Manhattan makes the business vulnerable to downturns and travel restrictions. Diversifying listings across different neighborhoods can mitigate this risk."
      ],
      "metadata": {
        "id": "jZHE50KBHaOp"
      }
    },
    {
      "cell_type": "markdown",
      "source": [
        "<h1>Bivariate Analysis (B)"
      ],
      "metadata": {
        "id": "ga-xvAlDH0oZ"
      }
    },
    {
      "cell_type": "markdown",
      "source": [
        "#### Chart - 4) 1.\tHow does the average price differ across different room types?"
      ],
      "metadata": {
        "id": "4Of9eVA-YrdM"
      }
    },
    {
      "cell_type": "code",
      "source": [
        "# Chart - 4 visualization code\n",
        "# Group by room_type and calculate the average price\n",
        "average_price_per_room_type = df.groupby('room_type')['price'].mean().reset_index()\n",
        "average_price_per_room_type.columns = ['Room Type', 'Average Price']\n",
        "\n",
        "# Set the plot size\n",
        "plt.figure(figsize=(10, 6))\n",
        "\n",
        "# Create a bar plot\n",
        "bar_plot = sns.barplot(data=average_price_per_room_type, x='Room Type', y='Average Price', hue='Room Type', palette='viridis', dodge=False, legend=False)\n",
        "\n",
        "# Set plot title and labels\n",
        "plt.title('Average Price per Room Type')\n",
        "plt.xlabel('Room Type')\n",
        "plt.ylabel('Average Price')\n",
        "\n",
        "# Add data labels on top of each bar\n",
        "for index, row in average_price_per_room_type.iterrows():\n",
        "    bar_plot.text(index, row['Average Price'], round(row['Average Price'], 2), color='black', ha=\"center\")\n",
        "\n",
        "# Show the plot"
      ],
      "metadata": {
        "id": "irlUoxc8YrdO"
      },
      "execution_count": null,
      "outputs": []
    },
    {
      "cell_type": "markdown",
      "source": [
        "##### 1. Why did you pick the specific chart?"
      ],
      "metadata": {
        "id": "iky9q4vBYrdO"
      }
    },
    {
      "cell_type": "markdown",
      "source": [
        "The heights of the bars make it straightforward to see which room type has the highest and lowest average prices, making the differences visually clear"
      ],
      "metadata": {
        "id": "aJRCwT6DYrdO"
      }
    },
    {
      "cell_type": "markdown",
      "source": [
        "##### 2. What is/are the insight(s) found from the chart?"
      ],
      "metadata": {
        "id": "F6T5p64dYrdO"
      }
    },
    {
      "cell_type": "markdown",
      "source": [
        "1. Entire Home/Apt Has the Highest Average Price:\n",
        "\n",
        "The average price for an entire home or apartment is significantly higher than the other room types, at approximately $211.79. This indicates that entire properties are priced at a premium, likely due to the privacy and space they offer.\n",
        "Private Rooms Are Mid-Range:\n",
        "\n",
        "2. Private rooms have an average price of about $89.78. This suggests that private rooms offer a balance between cost and privacy, making them a popular choice for budget-conscious travelers who still want some privacy.\n",
        "Shared Rooms Are the Least Expensive:\n",
        "\n",
        "3. Shared rooms have the lowest average price, around $70.13. This is expected as shared accommodations typically offer the least privacy and space, catering to the most budget-conscious travelers"
      ],
      "metadata": {
        "id": "Xx8WAJvtYrdO"
      }
    },
    {
      "cell_type": "markdown",
      "source": [
        "##### 3. Will the gained insights help creating a positive business impact?\n",
        "Are there any insights that lead to negative growth? Justify with specific reason."
      ],
      "metadata": {
        "id": "y-Ehk30pYrdP"
      }
    },
    {
      "cell_type": "markdown",
      "source": [
        "Positive Business Impact\n",
        "Optimized Pricing Strategy:\n",
        "\n",
        "1. Entire Home/Apt: Understanding that entire homes or apartments command the highest prices can help hosts optimize their pricing strategy, maximizing revenue from these listings.\n",
        "Private and Shared Rooms: Knowing the average price for private and shared rooms allows hosts to price their listings competitively, attracting the right target audience.\n",
        "Targeted Marketing:\n",
        "\n",
        "2. Entire Homes/Apts: Can be marketed towards families, groups, and travelers seeking privacy and space, emphasizing the added value and amenities.\n",
        "3. Private Rooms: Can be targeted towards solo travelers or couples, highlighting the balance between affordability and privacy.\n",
        "Shared Rooms: Can be marketed to budget-conscious travelers, such as backpackers and students, focusing on cost savings and communal living experiences.\n",
        "\n",
        "Investment Decisions:\n",
        "\n",
        "1. High ROI: Investors might focus on acquiring and listing entire homes or apartments due to their higher average prices, promising better returns on investment.\n",
        "Portfolio Diversification: Including a mix of private and shared rooms can attract a broader range of guests and ensure a stable occupancy rate.\n",
        "Service and Amenities Enhancement:\n",
        "\n",
        "1. Value Addition: Hosts can justify higher prices for entire homes or apartments by offering premium amenities and personalized services, enhancing guest satisfaction and encouraging positive reviews."
      ],
      "metadata": {
        "id": "jLNxxz7MYrdP"
      }
    },
    {
      "cell_type": "markdown",
      "source": [
        "Potential Negative Growth Insights\n",
        "\n",
        "1. Market Saturation:\n",
        "\n",
        "Entire Homes/Apts in High Demand Areas: If too many hosts list entire homes or apartments in popular areas, it may lead to market saturation, increased competition, and potentially lower occupancy rates and prices. This necessitates continuous differentiation and value addition to maintain competitiveness.\n",
        "\n",
        "2. Ignoring Less Lucrative Segments:\n",
        "\n",
        "Private and Shared Rooms: Focusing too much on entire homes or apartments might lead to neglect of private and shared rooms. This could result in missed opportunities to cater to budget-conscious travelers, potentially reducing overall market share.\n",
        "Economic Sensitivity:\n",
        "\n",
        "Dependency on High-Value Listings: Over-reliance on high-value listings like entire homes or apartments makes the business vulnerable to economic downturns and travel restrictions. During such times, travelers might prefer cheaper accommodations, leading to decreased demand for more expensive listings"
      ],
      "metadata": {
        "id": "SXavW8QJZ4XA"
      }
    },
    {
      "cell_type": "markdown",
      "source": [
        "#### Chart - 5) What is the average number of reviews per month for each neighbourhood group?"
      ],
      "metadata": {
        "id": "bamQiAODYuh1"
      }
    },
    {
      "cell_type": "code",
      "source": [
        "# Chart - 5 visualization code\n",
        "# Group by neighbourhood group and calculate the average number of reviews per month\n",
        "average_reviews_per_neighbourhood_group = df.groupby('neighbourhood_group')['reviews_per_month'].mean().reset_index()\n",
        "average_reviews_per_neighbourhood_group.columns = ['Neighbourhood Group', 'Average Reviews per Month']\n",
        "\n",
        "# Display the DataFrame\n",
        "print(average_reviews_per_neighbourhood_group)\n",
        "\n",
        "# Set the plot size\n",
        "plt.figure(figsize=(10, 6))\n",
        "\n",
        "# Create a bar plot\n",
        "sns.barplot(data=average_reviews_per_neighbourhood_group, x='Neighbourhood Group', y='Average Reviews per Month', palette='viridis')\n",
        "\n",
        "# Set plot title and labels\n",
        "plt.title('Average Number of Reviews per Month for Each Neighbourhood Group')\n",
        "plt.xlabel('Neighbourhood Group')\n",
        "plt.ylabel('Average Reviews per Month')\n",
        "\n",
        "# Add data labels on top of each bar\n",
        "for index, row in average_reviews_per_neighbourhood_group.iterrows():\n",
        "    plt.text(index, row['Average Reviews per Month'], round(row['Average Reviews per Month'], 2), color='black', ha=\"center\")\n",
        "\n",
        "# Show the plot\n",
        "plt.tight_layout()\n",
        "plt.show()"
      ],
      "metadata": {
        "id": "TIJwrbroYuh3"
      },
      "execution_count": null,
      "outputs": []
    },
    {
      "cell_type": "markdown",
      "source": [
        "##### 1. Why did you pick the specific chart?"
      ],
      "metadata": {
        "id": "QHF8YVU7Yuh3"
      }
    },
    {
      "cell_type": "markdown",
      "source": [
        "1. Comparison Across Categories:\n",
        "\n",
        "Bar charts are particularly effective for comparing values across different categories. In this case, the categories are the neighbourhood groups, and the values are the average number of reviews per month.\n",
        "\n",
        "2. Clarity and Simplicity:\n",
        "\n",
        "Bar charts present data in a straightforward and easily interpretable manner. The heights of the bars provide a clear visual indication of the differences in the average number of reviews between the neighbourhood groups.\n",
        "\n",
        "3. Categorical Data Representation:\n",
        "\n",
        "Since the data consists of distinct neighbourhood groups (categorical data) with associated numerical values (average reviews), a bar chart is well-suited for this type of data representation"
      ],
      "metadata": {
        "id": "dcxuIMRPYuh3"
      }
    },
    {
      "cell_type": "markdown",
      "source": [
        "##### 2. What is/are the insight(s) found from the chart?"
      ],
      "metadata": {
        "id": "GwzvFGzlYuh3"
      }
    },
    {
      "cell_type": "markdown",
      "source": [
        "Detailed Insights\n",
        "\n",
        "1. High Engagement Areas:\n",
        "\n",
        "   Manhattan and Brooklyn: Typically, these areas tend to have a higher number of reviews per month. This suggests that these neighbourhoods are highly popular among travelers, possibly due to their central locations, attractions, and amenities.\n",
        "Implication: Hosts in these areas might experience higher occupancy rates and can potentially charge higher prices.\n",
        "\n",
        "2. Moderate to Low Engagement Areas:\n",
        "\n",
        "   Queens: Usually shows moderate engagement, indicating steady but not overwhelming popularity. This area might attract guests looking for more affordable accommodations while still being relatively close to major attractions.\n",
        "\n",
        "   Bronx and Staten Island: These areas often have the lowest average reviews per month, indicating lower guest traffic or engagement.\n",
        "\n",
        "   Implication: There may be opportunities to increase marketing efforts in these areas to attract more guests and increase occupancy rates.\n",
        "   \n",
        "Strategic Business Decisions:\n",
        "\n",
        "3. Marketing Focus: Neighbourhoods with higher reviews per month should be leveraged in marketing campaigns, highlighting their popularity and guest satisfaction.\n",
        "\n",
        "4. Improvement Opportunities: Areas with lower engagement may require improvement in listing quality, competitive pricing, or enhanced amenities to attract more guests and increase reviews.\n",
        "Investment Considerations: Investors might consider focusing on high-engagement areas for new properties due to higher demand, but there could also be untapped potential in low-engagement areas with strategic enhancements.\n",
        "\n",
        "5. Customer Feedback and Quality:High Review Frequency: Indicates frequent guest turnover and potentially higher satisfaction rates, assuming reviews are positive. Hosts should maintain high standards to keep attracting positive reviews.\n",
        "\n",
        "6. Low Review Frequency: Could signal issues with guest satisfaction, property quality, or simply lower guest traffic. Addressing these issues could lead to improved engagement."
      ],
      "metadata": {
        "id": "uyqkiB8YYuh3"
      }
    },
    {
      "cell_type": "markdown",
      "source": [
        "##### 3. Will the gained insights help creating a positive business impact?\n",
        "Are there any insights that lead to negative growth? Justify with specific reason."
      ],
      "metadata": {
        "id": "qYpmQ266Yuh3"
      }
    },
    {
      "cell_type": "markdown",
      "source": [
        "Positive Business Impact\n",
        "Enhanced Marketing Strategies:\n",
        "\n",
        "Focus on Popular Areas: The high average number of reviews in popular areas like Manhattan and Brooklyn suggests that these neighborhoods are in high demand. Hosts and property managers can leverage this by highlighting the popularity and positive reviews in marketing materials, potentially attracting more guests.\n",
        "\n",
        "Targeted Improvements: Knowing which areas have lower engagement allows for targeted improvements. For instance, enhancing the quality of listings, providing additional amenities, or offering competitive pricing in underperforming neighborhoods can attract more guests and improve occupancy rates.\n",
        "Informed Pricing Strategies:\n",
        "\n",
        "Higher Rates in High-Demand Areas: Properties in areas with high average reviews can justify higher rates due to their popularity. This can maximize revenue while maintaining high occupancy rates.\n",
        "\n",
        "Competitive Pricing in Low-Demand Areas: Listings in neighborhoods with fewer reviews can adopt competitive pricing strategies to attract more guests and increase occupancy.\n",
        "Investment Opportunities:\n",
        "\n",
        "High-Engagement Areas: Investors can focus on acquiring properties in high-engagement neighborhoods, where demand is already proven to be strong.\n",
        "\n",
        "Growth Potential in Underserved Areas: Identifying neighborhoods with lower engagement but potential for growth can lead to early investments that yield high returns as the area develops and becomes more popular.\n",
        "\n",
        "Service Enhancement:\n",
        "\n",
        "Maintaining Standards in Popular Areas: In neighborhoods with high engagement, maintaining and enhancing service quality is crucial to ensure continued positive reviews and guest satisfaction.\n",
        "\n",
        "Boosting Quality in Low-Engagement Areas: Improving service quality in low-engagement areas can help attract more guests and improve reviews, leading to higher occupancy and revenue."
      ],
      "metadata": {
        "id": "_WtzZ_hCYuh4"
      }
    },
    {
      "cell_type": "markdown",
      "source": [
        "<h1>Bivariate Analysis (B) Numerical - Numerical"
      ],
      "metadata": {
        "id": "UaPiHL9_C466"
      }
    },
    {
      "cell_type": "markdown",
      "source": [
        "#### Chart - 6"
      ],
      "metadata": {
        "id": "OH-pJp9IphqM"
      }
    },
    {
      "cell_type": "code",
      "source": [
        "# Chart - 6 visualization code\n",
        "# Calculate the correlation coefficient\n",
        "correlation = df['price'].corr(df['number_of_reviews'])\n",
        "print(f'Correlation coefficient between price and number of reviews: {correlation}')\n",
        "\n",
        "# Create a scatter plot to visualize the relationship\n",
        "plt.figure(figsize=(10, 6))\n",
        "sns.scatterplot(data=df, x='price', y='number_of_reviews', alpha=0.5)\n",
        "plt.title('Scatter Plot of Price vs. Number of Reviews')\n",
        "plt.xlabel('Price')\n",
        "plt.ylabel('Number of Reviews')\n",
        "plt.show()"
      ],
      "metadata": {
        "id": "kuRf4wtuphqN"
      },
      "execution_count": null,
      "outputs": []
    },
    {
      "cell_type": "markdown",
      "source": [
        "##### 1. Why did you pick the specific chart?"
      ],
      "metadata": {
        "id": "bbFf2-_FphqN"
      }
    },
    {
      "cell_type": "markdown",
      "source": [
        "Scatter plots are ideal for visualizing the relationship between two continuous variables. In this case, it effectively shows the relationship between price and the number of reviews."
      ],
      "metadata": {
        "id": "loh7H2nzphqN"
      }
    },
    {
      "cell_type": "markdown",
      "source": [
        "##### 2. What is/are the insight(s) found from the chart?"
      ],
      "metadata": {
        "id": "_ouA3fa0phqN"
      }
    },
    {
      "cell_type": "markdown",
      "source": [
        "From the scatter plot of price vs. the number of reviews, the following insights can be drawn:\n",
        "\n",
        "Negative Correlation: There appears to be a negative correlation between price and the number of reviews. As the price increases, the number of reviews tends to decrease. This suggests that lower-priced listings tend to receive more reviews.\n",
        "\n",
        "Clustered Data: The majority of the data points are clustered in the lower price range (0-1000) and have a higher number of reviews. This indicates that most listings are priced lower and attract more guests, leading to more reviews.\n",
        "\n",
        "Outliers: There are a few outliers with extremely high prices (above 4000) and very few reviews. These listings might be luxury properties that are booked less frequently but at a higher price point.\n",
        "\n",
        "Review Saturation: Listings with very low prices (close to 0) seem to have a wide range of review counts, from very few to several hundred. This could indicate that while some low-priced listings are very popular, others may not be as appealing despite the low price."
      ],
      "metadata": {
        "id": "VECbqPI7phqN"
      }
    },
    {
      "cell_type": "markdown",
      "source": [
        "##### 3. Will the gained insights help creating a positive business impact?\n",
        "Are there any insights that lead to negative growth? Justify with specific reason."
      ],
      "metadata": {
        "id": "Seke61FWphqN"
      }
    },
    {
      "cell_type": "markdown",
      "source": [
        "\n",
        "Positive Business Impact\n",
        "\n",
        "Pricing Strategy Optimization:\n",
        "\n",
        "1. Increase Bookings and Reviews: Listings with lower prices tend to receive more reviews, indicating higher booking rates. Hosts can use this insight to price competitively to attract more guests and accumulate more reviews, enhancing their listing’s visibility and reputation.\n",
        "Revenue Maximization: For luxury properties or listings in high demand areas, maintaining higher prices might be justified despite fewer reviews. This can ensure higher revenue per booking.\n",
        "\n",
        "2. Targeted Marketing:\n",
        "\n",
        "Highlight Value: Listings with many reviews at lower prices can be marketed as offering great value, potentially attracting price-sensitive travelers.\n",
        "Unique Selling Points for High-End Listings: Higher-priced listings with fewer reviews can focus on unique features and luxury aspects in their marketing to attract a niche market willing to pay a premium.\n",
        "\n",
        "3. Service Improvement:\n",
        "\n",
        "Focus on Customer Satisfaction: Listings with more reviews provide more feedback, which can be used to improve the service and amenities offered, leading to better guest experiences and higher future occupancy"
      ],
      "metadata": {
        "id": "DW4_bGpfphqN"
      }
    },
    {
      "cell_type": "markdown",
      "source": [
        "#### Chart - 7) How does availability (availability_365) relate to the price of listings?"
      ],
      "metadata": {
        "id": "PIIx-8_IphqN"
      }
    },
    {
      "cell_type": "code",
      "source": [
        "# Chart - 7 visualization code\n",
        "# Scatter plot to show the relationship between availability_365 and price\n",
        "plt.figure(figsize=(10, 6))\n",
        "sns.scatterplot(data=df, x='availability_365', y='price', alpha=0.6)\n",
        "plt.title('Scatter Plot of Price vs. Availability (365 days)')\n",
        "plt.xlabel('Availability (365 days)')\n",
        "plt.ylabel('Price')\n",
        "plt.show()"
      ],
      "metadata": {
        "id": "lqAIGUfyphqO"
      },
      "execution_count": null,
      "outputs": []
    },
    {
      "cell_type": "markdown",
      "source": [
        "##### 1. Why did you pick the specific chart?"
      ],
      "metadata": {
        "id": "t27r6nlMphqO"
      }
    },
    {
      "cell_type": "markdown",
      "source": [
        "Visualization of Relationships:\n",
        "\n",
        "Scatter plots are particularly effective for visualizing the relationship between two continuous variables. In this case, we are interested in understanding how availability (measured in days available in a year) relates to the price of Airbnb listings.\n",
        "\n",
        "Identification of Patterns and Trends:\n",
        "\n",
        "Scatter plots make it easy to identify patterns, trends, and potential outliers. They allow us to see if there's a general upward or downward trend, clusters of data points, or a lack of correlation.\n",
        "\n",
        "Handling Large Datasets:\n",
        "\n",
        "Scatter plots are suitable for large datasets like this one because they can display a lot of data points simultaneously without losing clarity. This helps in getting a comprehensive view of the data distribution.\n",
        "\n",
        "Insights into Variability:\n",
        "\n",
        "This type of chart shows the variability and spread of both variables. For instance, we can observe how the price varies with different levels of availability and identify any anomalies or concentrations."
      ],
      "metadata": {
        "id": "iv6ro40sphqO"
      }
    },
    {
      "cell_type": "markdown",
      "source": [
        "##### 2. What is/are the insight(s) found from the chart?"
      ],
      "metadata": {
        "id": "r2jJGEOYphqO"
      }
    },
    {
      "cell_type": "markdown",
      "source": [
        "High Availability and Lower Prices:\n",
        "\n",
        "Listings with high availability (close to 365 days) tend to have lower prices. This suggests these listings may be less popular or in less desirable locations, necessitating lower prices to attract bookings.\n",
        "\n",
        "Lower Availability and Higher Prices:\n",
        "\n",
        "Listings with lower availability (fewer days available) often have higher prices. These listings are likely more popular or located in high-demand areas, allowing hosts to charge higher prices.\n",
        "\n",
        "No Strong Correlation:\n",
        "\n",
        "There doesn't seem to be a strong linear correlation between price and availability. The scatter plot shows a wide dispersion of points, indicating that other factors might be influencing prices and availability more significantly"
      ],
      "metadata": {
        "id": "Po6ZPi4hphqO"
      }
    },
    {
      "cell_type": "markdown",
      "source": [
        "##### 3. Will the gained insights help creating a positive business impact?\n",
        "Are there any insights that lead to negative growth? Justify with specific reason."
      ],
      "metadata": {
        "id": "b0JNsNcRphqO"
      }
    },
    {
      "cell_type": "markdown",
      "source": [
        "**Positive Business Impact**\n",
        "\n",
        "Revenue Optimization:\n",
        "\n",
        "By understanding this relationship, hosts can optimize pricing to maximize revenue. For example, lowering prices for listings with high availability can attract more bookings.\n",
        "Strategic Adjustments:\n",
        "\n",
        "Hosts can strategically adjust prices based on availability data. High-demand listings (low availability) can command higher prices, while those with high availability might need price reductions or added value to attract guests.\n",
        "\n",
        "**Negative Growth Insights**\n",
        "\n",
        "Market Saturation:\n",
        "\n",
        "If many listings have high availability and low prices, it may indicate market saturation. Hosts might need to differentiate their offerings or improve quality to attract more bookings.\n",
        "Overpricing Risks:\n",
        "\n",
        "Listings with high prices and high availability might be overpriced. Adjusting prices or enhancing listing appeal could be necessary to increase bookings."
      ],
      "metadata": {
        "id": "xvSq8iUTphqO"
      }
    },
    {
      "cell_type": "markdown",
      "source": [
        "Bivariate Analysis (B) Categorical - Categorical"
      ],
      "metadata": {
        "id": "3y2wKrT5_PxY"
      }
    },
    {
      "cell_type": "markdown",
      "source": [
        "#### Chart - 8)1.\tWhat is the distribution of room types within each neighbourhood group?"
      ],
      "metadata": {
        "id": "BZR9WyysphqO"
      }
    },
    {
      "cell_type": "code",
      "source": [
        "# Chart - 8 visualization code\n",
        "# Grouping the data by neighborhood and room type and counting the occurrences\n",
        "room_type_by_neighborhood = df.groupby(['neighbourhood_group', 'room_type']).size().reset_index(name='Count')\n",
        "\n",
        "# Creating a pivot table for easier plotting\n",
        "pivot_table = room_type_by_neighborhood.pivot(index='neighbourhood_group', columns='room_type', values='Count').fillna(0)\n",
        "\n",
        "# Plotting the grouped bar chart\n",
        "pivot_table.plot(kind='bar', stacked=False, figsize=(14, 8), colormap='viridis')\n",
        "plt.title('Distribution of Room Types Across Different Neighborhood Groups')\n",
        "plt.xlabel('Neighbourhood Group')\n",
        "plt.ylabel('Number of Listings')\n",
        "plt.xticks(rotation=45)\n",
        "plt.legend(title='Room Type')\n",
        "plt.tight_layout()\n",
        "\n",
        "# Display the plot\n",
        "plt.show()"
      ],
      "metadata": {
        "id": "TdPTWpAVphqO"
      },
      "execution_count": null,
      "outputs": []
    },
    {
      "cell_type": "markdown",
      "source": [
        "##### 1. Why did you pick the specific chart?"
      ],
      "metadata": {
        "id": "jj7wYXLtphqO"
      }
    },
    {
      "cell_type": "markdown",
      "source": [
        "clustered bar chart effectively presents multiple categories across different groups, allowing for easy comparison of room types across various neighborhood groups."
      ],
      "metadata": {
        "id": "Ob8u6rCTphqO"
      }
    },
    {
      "cell_type": "markdown",
      "source": [
        "##### 2. What is/are the insight(s) found from the chart?"
      ],
      "metadata": {
        "id": "eZrbJ2SmphqO"
      }
    },
    {
      "cell_type": "markdown",
      "source": [
        "Dominance of Entire Home/Apt Listings:\n",
        "\n",
        "Manhattan: The majority of listings in Manhattan are entire homes/apartments, indicating a preference among hosts to rent out entire properties rather than individual rooms.\n",
        "Brooklyn: Similarly, Brooklyn has a high number of entire home/apartment listings, though private rooms also make up a significant portion of the listings.\n",
        "\n",
        "High Number of Private Rooms:\n",
        "\n",
        "Brooklyn: While entire home/apartment listings are prominent, Brooklyn also has a substantial number of private room listings, suggesting a balanced market catering to both short-term renters and those looking for shared accommodations.\n",
        "Queens: Private rooms are almost as common as entire homes/apartments, indicating a diverse market catering to various types of guests.\n",
        "\n",
        "Shared Rooms Are Least Common:\n",
        "\n",
        "Across all neighborhoods, shared rooms make up the smallest portion of listings, reflecting a lower demand or supply for shared accommodation options.\n",
        "Low Listing Numbers in the Bronx and Staten Island:\n",
        "\n",
        "Bronx and Staten Island: Both neighborhoods have relatively few listings compared to Manhattan, Brooklyn, and Queens. This indicates a potential opportunity for growth and investment in these areas.\n",
        "\n",
        "Variation in Listing Types by Neighborhood:\n",
        "\n",
        "Queens: There is a noticeable number of entire home/apartment and private room listings, showing that the area caters to a mix of guests.\n",
        "Manhattan: The high concentration of entire homes/apartments reflects its status as a premium location where guests might prefer the privacy and convenience of an entire property"
      ],
      "metadata": {
        "id": "mZtgC_hjphqO"
      }
    },
    {
      "cell_type": "markdown",
      "source": [
        "##### 3. Will the gained insights help creating a positive business impact?\n",
        "Are there any insights that lead to negative growth? Justify with specific reason."
      ],
      "metadata": {
        "id": "rFu4xreNphqO"
      }
    },
    {
      "cell_type": "markdown",
      "source": [
        "Strategic Marketing and Investment:\n",
        "\n",
        "Focus on Manhattan and Brooklyn: High popularity of entire homes/apartments allows for concentrated marketing and investments.\n",
        "Promote Private and Shared Rooms: Target budget-conscious travelers to increase occupancy and revenue.\n",
        "\n",
        "Diversification and Expansion:\n",
        "\n",
        "Invest in Queens and Bronx: Potential growth areas for private rooms with lower competition and costs.\n",
        "Balanced Portfolio: Diversify listings across neighborhoods to reduce dependency on saturated markets and mitigate risks.\n",
        "\n",
        "Enhanced Customer Segmentation:\n",
        "\n",
        "Tailored Offerings: Market entire homes/apartments to families/groups and private/shared rooms to solo travelers or budget-conscious guests"
      ],
      "metadata": {
        "id": "ey_0qi68phqO"
      }
    },
    {
      "cell_type": "markdown",
      "source": [
        "**<H1>Multivariate Analysis (M)**"
      ],
      "metadata": {
        "id": "xCcMDohGBHtk"
      }
    },
    {
      "cell_type": "markdown",
      "source": [
        "#### Chart - 9) How does the relationship between price and number of reviews vary across different room types?"
      ],
      "metadata": {
        "id": "YJ55k-q6phqO"
      }
    },
    {
      "cell_type": "code",
      "source": [
        "# Chart - 9 visualization code\n",
        "# Create scatter plots for each room type\n",
        "plt.figure(figsize=(14, 10))\n",
        "\n",
        "room_types = df['room_type'].unique()\n",
        "for i, room_type in enumerate(room_types, 1):\n",
        "    plt.subplot(2, 2, i)\n",
        "    subset = df[df['room_type'] == room_type]\n",
        "    sns.scatterplot(data=subset, x='price', y='number_of_reviews', alpha=0.6)\n",
        "    plt.title(f'Price vs. Number of Reviews: {room_type}')\n",
        "    plt.xscale('log')\n",
        "    plt.yscale('log')\n",
        "    plt.xlabel('Price')\n",
        "    plt.ylabel('Number of Reviews')\n",
        "\n",
        "plt.tight_layout()\n",
        "plt.show()"
      ],
      "metadata": {
        "id": "B2aS4O1ophqO"
      },
      "execution_count": null,
      "outputs": []
    },
    {
      "cell_type": "markdown",
      "source": [
        "##### 1. Why did you pick the specific chart?"
      ],
      "metadata": {
        "id": "gCFgpxoyphqP"
      }
    },
    {
      "cell_type": "markdown",
      "source": [
        "Answer Here."
      ],
      "metadata": {
        "id": "TVxDimi2phqP"
      }
    },
    {
      "cell_type": "markdown",
      "source": [
        "##### 2. What is/are the insight(s) found from the chart?"
      ],
      "metadata": {
        "id": "OVtJsKN_phqQ"
      }
    },
    {
      "cell_type": "markdown",
      "source": [
        "***PRICE Vs NO. OF REVIEWS FOR PRIVATE ROOM***\n",
        "\n",
        "High Density at Lower Price Points:\n",
        "\n",
        "The majority of private room listings have prices clustered below approximately $100. This indicates that private rooms are generally more affordable options in the market.\n",
        "Review Concentration:\n",
        "\n",
        "Listings with lower prices tend to have a higher number of reviews. This could suggest that more affordable private rooms are more frequently booked and reviewed, likely due to their attractiveness to budget-conscious travelers.\n",
        "Sparse Data at Higher Prices:\n",
        "\n",
        "There are fewer private room listings at higher price points. Those that do exist tend to have fewer reviews. This indicates that higher-priced private rooms are less common and potentially less popular.\n",
        "Logarithmic Scales:\n",
        "\n",
        "The use of logarithmic scales helps to reveal the relationship across a wide range of prices and reviews. It also shows that there is a broad distribution of reviews even at lower price points\n",
        "\n",
        "***PRICE Vs NO. OF REVIEWS FOR ENTIRE HOME/APT***\n",
        "Concentration of Reviews:\n",
        "\n",
        "Most listings are priced between 10$  &  $1000.\n",
        "Most reviews are concentrated between 1 and 100 reviews.\n",
        "Price Range:\n",
        "\n",
        "The price range of listings spans from just above $10 to $10,000.\n",
        "Reviews Distribution:\n",
        "\n",
        "Listings with prices between approximately $100 and $1,000 tend to have more reviews compared to other price ranges.\n",
        "Outliers:\n",
        "\n",
        "There are some listings with prices above $1,000 that have a significant number of reviews, indicating that even expensive listings can attract substantial attention.\n",
        "General Trend:\n",
        "\n",
        "Listings with moderate prices (around $100 to $1,000) appear to have the most reviews, suggesting a potential sweet spot for pricing to attract more reviews.\n",
        "\n",
        "***PRICE Vs NO. OF REVIEWS FOR SHARED ROOM***\n",
        "\n",
        "Concentration of Reviews:\n",
        "\n",
        "Most shared rooms are priced between $10 and $100.\n",
        "Reviews for these rooms are mostly concentrated between 1 and 100 reviews.\n",
        "Price Range:\n",
        "\n",
        "The price range for shared rooms spans from just above $10 to over $1,000, but prices above $100 are much less common.\n",
        "Reviews Distribution:\n",
        "\n",
        "Shared rooms with prices between approximately $10 and $100 tend to have more reviews compared to other price ranges.\n",
        "Outliers:\n",
        "\n",
        "There are a few listings with prices above $100 that have a significant number of reviews, but these are not as common.\n",
        "Extremely high prices (above $1,000) have very few reviews.\n",
        "General Trend:\n",
        "\n",
        "Listings with moderate prices (around $10 to $100) appear to have the most reviews, suggesting this is the most popular price range for shared rooms"
      ],
      "metadata": {
        "id": "ngGi97qjphqQ"
      }
    },
    {
      "cell_type": "markdown",
      "source": [
        "##### 3. Will the gained insights help creating a positive business impact?\n",
        "Are there any insights that lead to negative growth? Justify with specific reason."
      ],
      "metadata": {
        "id": "lssrdh5qphqQ"
      }
    },
    {
      "cell_type": "markdown",
      "source": [
        "Optimizing Pricing:\n",
        "\n",
        "Targeting the $100 to $1,000 price range where most reviews are concentrated can attract more customers.\n",
        "\n",
        "Targeted Marketing:\n",
        "\n",
        "\n",
        "Focusing marketing efforts on the optimal price range to maximize visibility and conversions.\n",
        "\n",
        "Revenue Management:\n",
        "\n",
        "Dynamically adjusting prices based on demand and review trends to maximize revenue.\n",
        "\n",
        "Improving Offerings:\n",
        "\n",
        "Enhancing the quality of listings in the popular price range to boost customer satisfaction and reviews.\n",
        "\n",
        "Efficient Resource Allocation:\n",
        "\n",
        "Allocating resources to the price segments that generate the most interest and reviews"
      ],
      "metadata": {
        "id": "tBpY5ekJphqQ"
      }
    },
    {
      "cell_type": "markdown",
      "source": [
        "#### Chart - 10"
      ],
      "metadata": {
        "id": "U2RJ9gkRphqQ"
      }
    },
    {
      "cell_type": "code",
      "source": [
        "# Chart - 10 visualization code\n",
        "# Convert 'calculated_host_listings_count' to numeric, coerce errors to NaN and fill NaNs with 0\n",
        "df['calculated_host_listings_count'] = pd.to_numeric(df['calculated_host_listings_count'], errors='coerce').fillna(0)\n",
        "\n",
        "# Ensure 'reviews_per_month' is also numeric\n",
        "df['reviews_per_month'] = pd.to_numeric(df['reviews_per_month'], errors='coerce').fillna(0)\n",
        "\n",
        "# Convert 'calculated_host_listings_count' to a categorical variable for better visualization\n",
        "df['calculated_host_listings_count'] = df['calculated_host_listings_count'].astype('category')\n",
        "\n",
        "# Create a boxplot to see the distribution of reviews_per_month across different neighbourhood groups\n",
        "plt.figure(figsize=(12, 8))\n",
        "sns.boxplot(x='neighbourhood_group', y='reviews_per_month', hue='calculated_host_listings_count', data=df)\n",
        "plt.title('Distribution of Reviews per Month across Neighbourhood Groups and Host Listing Count')\n",
        "plt.xlabel('Neighbourhood Group')\n",
        "plt.ylabel('Reviews per Month')\n",
        "plt.legend(title='Host Listing Count')\n",
        "plt.xticks(rotation=45)\n",
        "plt.show()\n",
        "\n",
        "# Create a grouped bar plot to see the average reviews_per_month for different neighbourhood groups and host listing counts\n",
        "df_grouped = df.groupby(['neighbourhood_group', 'calculated_host_listings_count'])['reviews_per_month'].mean().reset_index()\n",
        "\n",
        "plt.figure(figsize=(14, 10))\n",
        "sns.barplot(x='neighbourhood_group', y='reviews_per_month', hue='calculated_host_listings_count', data=df_grouped)\n",
        "plt.title('Average Reviews per Month for Different Neighbourhood Groups and Host Listing Counts')\n",
        "plt.xlabel('Neighbourhood Group')\n",
        "plt.ylabel('Average Reviews per Month')\n",
        "plt.legend(title='Host Listing Count')\n",
        "plt.xticks(rotation=45)\n",
        "plt.show()"
      ],
      "metadata": {
        "id": "GM7a4YP4phqQ"
      },
      "execution_count": null,
      "outputs": []
    },
    {
      "cell_type": "markdown",
      "source": [
        "##### 1. Why did you pick the specific chart?"
      ],
      "metadata": {
        "id": "1M8mcRywphqQ"
      }
    },
    {
      "cell_type": "markdown",
      "source": [
        "The Bar Plot chart summarizes a large dataset into a digestible visual format, allowing for quick and easy interpretation of complex data relationships.\n",
        "\n",
        "In summary, the chosen chart type allows for a clear, detailed, and informative visualization of the combined effects of host listing count and neighbourhood group on the number of reviews per month. This makes it easier to derive actionable insights and observe trends across the dataset"
      ],
      "metadata": {
        "id": "8agQvks0phqQ"
      }
    },
    {
      "cell_type": "markdown",
      "source": [
        "##### 2. What is/are the insight(s) found from the chart?"
      ],
      "metadata": {
        "id": "tgIPom80phqQ"
      }
    },
    {
      "cell_type": "markdown",
      "source": [
        "Variation in Reviews per Month:\n",
        "\n",
        "There is significant variation in the number of reviews per month across different neighbourhood groups.\n",
        "Neighbourhoods such as Brooklyn and Manhattan generally have higher average reviews per month compared to others like the Bronx and Queens.\n",
        "\n",
        "Host Listing Count Impact:\n",
        "\n",
        "In general, hosts with fewer listings (lower host listing counts) tend to have higher average reviews per month.\n",
        "There are some exceptions, but the overall trend suggests that hosts with a smaller number of listings may provide a more personalized experience, leading to higher reviews.\n",
        "\n",
        "Neighbourhood Specifics:\n",
        "\n",
        "Bronx: The average reviews per month are relatively lower, regardless of the host listing count.\n",
        "Brooklyn: There is a wide range of reviews per month, with some hosts with very few listings achieving high average reviews. The diversity in listing count and review counts is quite prominent.\n",
        "Manhattan: Similar to Brooklyn, but with slightly lower reviews per month on average.\n",
        "Queens: The data shows moderate average reviews per month, with some higher review counts for hosts with fewer listings.\n",
        "Staten Island: There are few data points, but the trend seems to follow that of lower average reviews per month.\n",
        "\n",
        "Influence of High Listing Counts:\n",
        "\n",
        "Hosts with very high listing counts (like 327, 232, etc.) generally have lower average reviews per month. This could indicate that managing a large number of listings might affect the quality of service or the individual attention given to guests.\n",
        "\n",
        "Outliers and Anomalies:\n",
        "\n",
        "There are some outliers where hosts with high listing counts also have high average reviews per month. These outliers suggest that some hosts are able to maintain high service quality even with many listings"
      ],
      "metadata": {
        "id": "Qp13pnNzphqQ"
      }
    },
    {
      "cell_type": "markdown",
      "source": [
        "##### 3. Will the gained insights help creating a positive business impact?\n",
        "Are there any insights that lead to negative growth? Justify with specific reason."
      ],
      "metadata": {
        "id": "JMzcOPDDphqR"
      }
    },
    {
      "cell_type": "markdown",
      "source": [
        "Enhanced Customer Satisfaction: By understanding and acting on the factors that lead to higher reviews, hosts can improve their service quality, leading to better guest experiences and higher satisfaction.\n",
        "\n",
        "Increased Bookings: Strategic investments and improvements in property management can lead to higher occupancy rates and more bookings.\n",
        "\n",
        "Competitive Advantage: Hosts and platforms that leverage these insights effectively can gain a competitive advantage in the market.\n",
        "\n",
        "Informed Decision Making: Both hosts and guests can make better-informed decisions, leading to improved outcomes for all parties involved.\n",
        "\n",
        "\n",
        "\n",
        "By leveraging these insights, hosts, guests, platforms, and other stakeholders can make data-driven decisions that enhance overall business performance and customer satisfaction.\n",
        "\n",
        "\n",
        "\n",
        "\n",
        "\n",
        "\n"
      ],
      "metadata": {
        "id": "R4Ka1PC2phqR"
      }
    },
    {
      "cell_type": "markdown",
      "source": [
        "#### Chart - 11)How do latitude and longitude interact with room type and price?"
      ],
      "metadata": {
        "id": "x-EpHcCOp1ci"
      }
    },
    {
      "cell_type": "code",
      "source": [
        "# Chart - 11 visualization code\n",
        "# Create a scatter plot for latitude, longitude, room type, and price\n",
        "plt.figure(figsize=(14, 10))\n",
        "scatter = sns.scatterplot(\n",
        "    data=df,\n",
        "    x='longitude',\n",
        "    y='latitude',\n",
        "    hue='room_type',\n",
        "    size='price',\n",
        "    sizes=(20, 200),\n",
        "    alpha=0.6,\n",
        "    palette='muted'\n",
        ")\n",
        "\n",
        "# Set plot title and labels\n",
        "plt.title('Interaction of Latitude, Longitude with Room Type and Price')\n",
        "plt.xlabel('Longitude')\n",
        "plt.ylabel('Latitude')\n",
        "plt.legend(bbox_to_anchor=(1.05, 1), loc=2, borderaxespad=0.)\n",
        "\n",
        "plt.show()"
      ],
      "metadata": {
        "id": "mAQTIvtqp1cj"
      },
      "execution_count": null,
      "outputs": []
    },
    {
      "cell_type": "markdown",
      "source": [
        "##### 1. Why did you pick the specific chart?"
      ],
      "metadata": {
        "id": "X_VqEhTip1ck"
      }
    },
    {
      "cell_type": "markdown",
      "source": [
        "Answer Here."
      ],
      "metadata": {
        "id": "-vsMzt_np1ck"
      }
    },
    {
      "cell_type": "markdown",
      "source": [
        "##### 2. What is/are the insight(s) found from the chart?"
      ],
      "metadata": {
        "id": "8zGJKyg5p1ck"
      }
    },
    {
      "cell_type": "markdown",
      "source": [
        "Geographic Concentration:\n",
        "\n",
        "The majority of listings are in the central and northern regions, covering approximately 70-80% of the area.\n",
        "\n",
        "Room Types:\n",
        "\n",
        "Private rooms: ~50% of listings.\n",
        "Entire homes/apartments: ~45% of listings.\n",
        "Shared rooms: ~5% of listings.\n",
        "\n",
        "Price Distribution:\n",
        "\n",
        "Low-priced listings (smaller circles) make up about 90% of the total.\n",
        "\n",
        "High-priced listings (larger circles, up to 10,000) are around 10%.\n",
        "\n",
        "Popular Neighborhoods:\n",
        "\n",
        "Central clusters represent around 60% of the total listings, indicating popular areas"
      ],
      "metadata": {
        "id": "ZYdMsrqVp1ck"
      }
    },
    {
      "cell_type": "markdown",
      "source": [
        "##### 3. Will the gained insights help creating a positive business impact?\n",
        "Are there any insights that lead to negative growth? Justify with specific reason."
      ],
      "metadata": {
        "id": "PVzmfK_Ep1ck"
      }
    },
    {
      "cell_type": "markdown",
      "source": [
        "Positive Business Impact\n",
        "\n",
        "Targeting High-Demand Areas:\n",
        "\n",
        "High Concentration: With 70-80% of listings in central and northern regions, targeting these areas can optimize marketing efforts and improve occupancy rates.\n",
        "Popular Neighborhoods: The central clusters, representing around 60% of listings, indicate high demand. Focusing on these areas can drive more bookings and higher revenue.\n",
        "\n",
        "Room Type Strategy:\n",
        "\n",
        "Private Rooms and Entire Homes: Since private rooms 50% and entire homes apartments (~45%) dominate, tailoring offerings and promotions for these types can cater to the majority of the market.\n",
        "Competitive Pricing: Offering competitive prices in these popular categories can attract more guests.\n",
        "\n",
        "Pricing Strategy:\n",
        "\n",
        "Low-Priced Listings: With 90% of listings being low-priced, maintaining affordable pricing can appeal to a larger customer base and ensure higher booking volumes.\n",
        "High-Priced Listings: Leveraging the 10% of high-priced listings to target luxury travelers can diversify the customer base and increase overall revenue."
      ],
      "metadata": {
        "id": "druuKYZpp1ck"
      }
    },
    {
      "cell_type": "markdown",
      "source": [
        "#### Chart - 12"
      ],
      "metadata": {
        "id": "n3dbpmDWp1ck"
      }
    },
    {
      "cell_type": "code",
      "source": [
        "# Chart - 12 visualization code"
      ],
      "metadata": {
        "id": "bwevp1tKp1ck"
      },
      "execution_count": null,
      "outputs": []
    },
    {
      "cell_type": "markdown",
      "source": [
        "##### 1. Why did you pick the specific chart?"
      ],
      "metadata": {
        "id": "ylSl6qgtp1ck"
      }
    },
    {
      "cell_type": "markdown",
      "source": [
        "Answer Here."
      ],
      "metadata": {
        "id": "m2xqNkiQp1ck"
      }
    },
    {
      "cell_type": "markdown",
      "source": [
        "##### 2. What is/are the insight(s) found from the chart?"
      ],
      "metadata": {
        "id": "ZWILFDl5p1ck"
      }
    },
    {
      "cell_type": "markdown",
      "source": [
        "Answer Here"
      ],
      "metadata": {
        "id": "x-lUsV2mp1ck"
      }
    },
    {
      "cell_type": "markdown",
      "source": [
        "##### 3. Will the gained insights help creating a positive business impact?\n",
        "Are there any insights that lead to negative growth? Justify with specific reason."
      ],
      "metadata": {
        "id": "M7G43BXep1ck"
      }
    },
    {
      "cell_type": "markdown",
      "source": [
        "Answer Here"
      ],
      "metadata": {
        "id": "5wwDJXsLp1cl"
      }
    },
    {
      "cell_type": "markdown",
      "source": [
        "#### Chart - 13"
      ],
      "metadata": {
        "id": "Ag9LCva-p1cl"
      }
    },
    {
      "cell_type": "code",
      "source": [
        "# Chart - 13 visualization code"
      ],
      "metadata": {
        "id": "EUfxeq9-p1cl"
      },
      "execution_count": null,
      "outputs": []
    },
    {
      "cell_type": "markdown",
      "source": [
        "##### 1. Why did you pick the specific chart?"
      ],
      "metadata": {
        "id": "E6MkPsBcp1cl"
      }
    },
    {
      "cell_type": "markdown",
      "source": [
        "Answer Here."
      ],
      "metadata": {
        "id": "V22bRsFWp1cl"
      }
    },
    {
      "cell_type": "markdown",
      "source": [
        "##### 2. What is/are the insight(s) found from the chart?"
      ],
      "metadata": {
        "id": "2cELzS2fp1cl"
      }
    },
    {
      "cell_type": "markdown",
      "source": [
        "Answer Here"
      ],
      "metadata": {
        "id": "ozQPc2_Ip1cl"
      }
    },
    {
      "cell_type": "markdown",
      "source": [
        "##### 3. Will the gained insights help creating a positive business impact?\n",
        "Are there any insights that lead to negative growth? Justify with specific reason."
      ],
      "metadata": {
        "id": "3MPXvC8up1cl"
      }
    },
    {
      "cell_type": "markdown",
      "source": [
        "Answer Here"
      ],
      "metadata": {
        "id": "GL8l1tdLp1cl"
      }
    },
    {
      "cell_type": "markdown",
      "source": [
        "#### Chart - 14 - Correlation Heatmap"
      ],
      "metadata": {
        "id": "NC_X3p0fY2L0"
      }
    },
    {
      "cell_type": "code",
      "source": [
        "# Correlation Heatmap visualization code"
      ],
      "metadata": {
        "id": "xyC9zolEZNRQ"
      },
      "execution_count": null,
      "outputs": []
    },
    {
      "cell_type": "markdown",
      "source": [
        "##### 1. Why did you pick the specific chart?"
      ],
      "metadata": {
        "id": "UV0SzAkaZNRQ"
      }
    },
    {
      "cell_type": "markdown",
      "source": [
        "Answer Here."
      ],
      "metadata": {
        "id": "DVPuT8LYZNRQ"
      }
    },
    {
      "cell_type": "markdown",
      "source": [
        "##### 2. What is/are the insight(s) found from the chart?"
      ],
      "metadata": {
        "id": "YPEH6qLeZNRQ"
      }
    },
    {
      "cell_type": "markdown",
      "source": [
        "Answer Here"
      ],
      "metadata": {
        "id": "bfSqtnDqZNRR"
      }
    },
    {
      "cell_type": "markdown",
      "source": [
        "#### Chart - 15 - Pair Plot"
      ],
      "metadata": {
        "id": "q29F0dvdveiT"
      }
    },
    {
      "cell_type": "code",
      "source": [
        "# Pair Plot visualization code"
      ],
      "metadata": {
        "id": "o58-TEIhveiU"
      },
      "execution_count": null,
      "outputs": []
    },
    {
      "cell_type": "markdown",
      "source": [
        "##### 1. Why did you pick the specific chart?"
      ],
      "metadata": {
        "id": "EXh0U9oCveiU"
      }
    },
    {
      "cell_type": "markdown",
      "source": [
        "Answer Here."
      ],
      "metadata": {
        "id": "eMmPjTByveiU"
      }
    },
    {
      "cell_type": "markdown",
      "source": [
        "##### 2. What is/are the insight(s) found from the chart?"
      ],
      "metadata": {
        "id": "22aHeOlLveiV"
      }
    },
    {
      "cell_type": "markdown",
      "source": [
        "Answer Here"
      ],
      "metadata": {
        "id": "uPQ8RGwHveiV"
      }
    },
    {
      "cell_type": "markdown",
      "source": [
        "## **5. Solution to Business Objective**"
      ],
      "metadata": {
        "id": "JcMwzZxoAimU"
      }
    },
    {
      "cell_type": "markdown",
      "source": [
        "#### What do you suggest the client to achieve Business Objective ?\n",
        "Explain Briefly."
      ],
      "metadata": {
        "id": "8G2x9gOozGDZ"
      }
    },
    {
      "cell_type": "markdown",
      "source": [
        "Answer Here."
      ],
      "metadata": {
        "id": "pASKb0qOza21"
      }
    },
    {
      "cell_type": "markdown",
      "source": [
        "# **Conclusion**"
      ],
      "metadata": {
        "id": "gCX9965dhzqZ"
      }
    },
    {
      "cell_type": "markdown",
      "source": [
        "Write the conclusion here."
      ],
      "metadata": {
        "id": "Fjb1IsQkh3yE"
      }
    },
    {
      "cell_type": "markdown",
      "source": [
        "### ***Hurrah! You have successfully completed your EDA Capstone Project !!!***"
      ],
      "metadata": {
        "id": "gIfDvo9L0UH2"
      }
    }
  ]
}